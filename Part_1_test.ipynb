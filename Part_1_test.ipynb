{
 "cells": [
  {
   "cell_type": "code",
   "execution_count": 1,
   "id": "a21cf631-450e-4a9f-ae92-353508ad4725",
   "metadata": {},
   "outputs": [
    {
     "ename": "SyntaxError",
     "evalue": "invalid syntax (3253965888.py, line 1)",
     "output_type": "error",
     "traceback": [
      "\u001b[1;36m  Cell \u001b[1;32mIn[1], line 1\u001b[1;36m\u001b[0m\n\u001b[1;33m    שאלה 1:\u001b[0m\n\u001b[1;37m         ^\u001b[0m\n\u001b[1;31mSyntaxError\u001b[0m\u001b[1;31m:\u001b[0m invalid syntax\n"
     ]
    }
   ],
   "source": [
    "שאלה 1:\n",
    "ב\n",
    "\n",
    "שאלה 2:\n",
    "ב\n",
    "\n",
    "שאלה 3:\n",
    "ב\n",
    "\n",
    "שאלה 4:\n",
    "ג\n",
    "\n",
    "שאלה 5:\n",
    "ג\n",
    "\n",
    "שאלה 6:\n",
    "ג\n",
    "\n",
    "שאלה 7:\n",
    "ד\n",
    "\n",
    "שאלה 8:\n",
    "ב\n",
    "\n",
    "שאלה 9:\n",
    "ג\n",
    "\n",
    "שאלה10:\n",
    "א\n",
    "\n"
   ]
  }
 ],
 "metadata": {
  "kernelspec": {
   "display_name": "Python [conda env:base] *",
   "language": "python",
   "name": "conda-base-py"
  },
  "language_info": {
   "codemirror_mode": {
    "name": "ipython",
    "version": 3
   },
   "file_extension": ".py",
   "mimetype": "text/x-python",
   "name": "python",
   "nbconvert_exporter": "python",
   "pygments_lexer": "ipython3",
   "version": "3.12.7"
  }
 },
 "nbformat": 4,
 "nbformat_minor": 5
}
